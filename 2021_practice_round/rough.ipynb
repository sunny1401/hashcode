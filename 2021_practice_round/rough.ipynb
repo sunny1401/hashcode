{
 "cells": [
  {
   "cell_type": "code",
   "execution_count": 2,
   "id": "orange-might",
   "metadata": {},
   "outputs": [
    {
     "name": "stdout",
     "output_type": "stream",
     "text": [
      "Requirement already satisfied: ortools in /Users/sankrantijoshi/Documents/miniconda/envs/googleTFCert/lib/python3.8/site-packages (8.1.8487)\r\n",
      "Requirement already satisfied: absl-py>=0.11 in /Users/sankrantijoshi/Documents/miniconda/envs/googleTFCert/lib/python3.8/site-packages (from ortools) (0.11.0)\r\n",
      "Requirement already satisfied: protobuf>=3.14.0 in /Users/sankrantijoshi/Documents/miniconda/envs/googleTFCert/lib/python3.8/site-packages (from ortools) (3.14.0)\r\n",
      "Requirement already satisfied: six in /Users/sankrantijoshi/Documents/miniconda/envs/googleTFCert/lib/python3.8/site-packages (from absl-py>=0.11->ortools) (1.15.0)\r\n",
      "Requirement already satisfied: six in /Users/sankrantijoshi/Documents/miniconda/envs/googleTFCert/lib/python3.8/site-packages (from absl-py>=0.11->ortools) (1.15.0)\r\n"
     ]
    }
   ],
   "source": [
    "!pip install ortools --use-feature=2020-resolver"
   ]
  },
  {
   "cell_type": "code",
   "execution_count": 1,
   "id": "aerial-thong",
   "metadata": {},
   "outputs": [],
   "source": [
    "from abstract_class import PizzaDelivery, file_details, get_people_count, write_output\n",
    "from abstract_class import get_score\n",
    "from ex_solution import ExDelivery\n",
    "from collections import OrderedDict\n",
    "import copy\n",
    "import time"
   ]
  },
  {
   "cell_type": "code",
   "execution_count": 2,
   "id": "dedicated-james",
   "metadata": {},
   "outputs": [
    {
     "data": {
      "text/plain": [
       "0.0013010501861572266"
      ]
     },
     "execution_count": 2,
     "metadata": {},
     "output_type": "execute_result"
    }
   ],
   "source": [
    "start_time = time.time()\n",
    "pizza_dict, pizza_count, two_people, three_people, four_people = file_details('b')\n",
    "time.time() - start_time"
   ]
  },
  {
   "cell_type": "code",
   "execution_count": 3,
   "id": "offshore-sample",
   "metadata": {},
   "outputs": [],
   "source": [
    "\n",
    "cost_matrix = {'2':[], '3':[], '4':[]}\n",
    "\n",
    "for i in range(0, pizza_count,2):\n",
    "    all_ingredients = copy.deepcopy(pizza_dict[i])\n",
    "    all_ingredients.update(pizza_dict[i+1])\n",
    "    cost_matrix['2'].append((len(all_ingredients)**2, {i+1, i}))\n",
    "    "
   ]
  },
  {
   "cell_type": "code",
   "execution_count": null,
   "id": "loaded-johns",
   "metadata": {},
   "outputs": [],
   "source": [
    "for i in range(0, pizza_count, 3):\n",
    "    "
   ]
  },
  {
   "cell_type": "code",
   "execution_count": 5,
   "id": "handed-subscriber",
   "metadata": {},
   "outputs": [],
   "source": [
    "val = copy.deepcopy(pizza_dict[0])"
   ]
  },
  {
   "cell_type": "code",
   "execution_count": 6,
   "id": "anticipated-senior",
   "metadata": {},
   "outputs": [],
   "source": [
    "val.update(pizza_dict[1])"
   ]
  },
  {
   "cell_type": "code",
   "execution_count": 7,
   "id": "stunning-engineer",
   "metadata": {},
   "outputs": [
    {
     "data": {
      "text/plain": [
       "{'cheddar',\n",
       " 'emmental-cheese',\n",
       " 'mozzarella',\n",
       " 'mushrooms',\n",
       " 'neapolitan-crust',\n",
       " 'onions',\n",
       " 'pineapple',\n",
       " 'tomatoes'}"
      ]
     },
     "execution_count": 7,
     "metadata": {},
     "output_type": "execute_result"
    }
   ],
   "source": [
    "val"
   ]
  },
  {
   "cell_type": "code",
   "execution_count": 8,
   "id": "sitting-triumph",
   "metadata": {},
   "outputs": [
    {
     "data": {
      "text/plain": [
       "8"
      ]
     },
     "execution_count": 8,
     "metadata": {},
     "output_type": "execute_result"
    }
   ],
   "source": [
    "len(val)"
   ]
  },
  {
   "cell_type": "code",
   "execution_count": 4,
   "id": "several-member",
   "metadata": {},
   "outputs": [
    {
     "data": {
      "text/plain": [
       "[(64, {0, 1}),\n",
       " (16, {2, 3}),\n",
       " (25, {4, 5}),\n",
       " (64, {6, 7}),\n",
       " (9, {8, 9}),\n",
       " (49, {10, 11}),\n",
       " (81, {12, 13}),\n",
       " (81, {14, 15}),\n",
       " (49, {16, 17}),\n",
       " (36, {18, 19}),\n",
       " (100, {20, 21}),\n",
       " (16, {22, 23}),\n",
       " (25, {24, 25}),\n",
       " (16, {26, 27}),\n",
       " (100, {28, 29}),\n",
       " (16, {30, 31}),\n",
       " (81, {32, 33}),\n",
       " (100, {34, 35}),\n",
       " (9, {36, 37}),\n",
       " (25, {38, 39}),\n",
       " (16, {40, 41}),\n",
       " (1, {42, 43}),\n",
       " (16, {44, 45}),\n",
       " (100, {46, 47}),\n",
       " (36, {48, 49}),\n",
       " (9, {50, 51}),\n",
       " (25, {52, 53}),\n",
       " (25, {54, 55}),\n",
       " (9, {56, 57}),\n",
       " (9, {58, 59}),\n",
       " (25, {60, 61}),\n",
       " (4, {62, 63}),\n",
       " (64, {64, 65}),\n",
       " (9, {66, 67}),\n",
       " (9, {68, 69}),\n",
       " (25, {70, 71}),\n",
       " (64, {72, 73}),\n",
       " (4, {74, 75}),\n",
       " (9, {76, 77}),\n",
       " (9, {78, 79}),\n",
       " (9, {80, 81}),\n",
       " (4, {82, 83}),\n",
       " (4, {84, 85}),\n",
       " (64, {86, 87}),\n",
       " (16, {88, 89}),\n",
       " (36, {90, 91}),\n",
       " (100, {92, 93}),\n",
       " (4, {94, 95}),\n",
       " (100, {96, 97}),\n",
       " (16, {98, 99}),\n",
       " (16, {100, 101}),\n",
       " (4, {102, 103}),\n",
       " (16, {104, 105}),\n",
       " (9, {106, 107}),\n",
       " (25, {108, 109}),\n",
       " (36, {110, 111}),\n",
       " (25, {112, 113}),\n",
       " (16, {114, 115}),\n",
       " (25, {116, 117}),\n",
       " (9, {118, 119}),\n",
       " (36, {120, 121}),\n",
       " (16, {122, 123}),\n",
       " (9, {124, 125}),\n",
       " (4, {126, 127}),\n",
       " (16, {128, 129}),\n",
       " (1, {130, 131}),\n",
       " (9, {132, 133}),\n",
       " (4, {134, 135}),\n",
       " (9, {136, 137}),\n",
       " (25, {138, 139}),\n",
       " (36, {140, 141}),\n",
       " (4, {142, 143}),\n",
       " (9, {144, 145}),\n",
       " (25, {146, 147}),\n",
       " (16, {148, 149}),\n",
       " (9, {150, 151}),\n",
       " (16, {152, 153}),\n",
       " (64, {154, 155}),\n",
       " (36, {156, 157}),\n",
       " (64, {158, 159}),\n",
       " (9, {160, 161}),\n",
       " (25, {162, 163}),\n",
       " (81, {164, 165}),\n",
       " (36, {166, 167}),\n",
       " (4, {168, 169}),\n",
       " (36, {170, 171}),\n",
       " (9, {172, 173}),\n",
       " (36, {174, 175}),\n",
       " (16, {176, 177}),\n",
       " (4, {178, 179}),\n",
       " (25, {180, 181}),\n",
       " (36, {182, 183}),\n",
       " (9, {184, 185}),\n",
       " (36, {186, 187}),\n",
       " (64, {188, 189}),\n",
       " (100, {190, 191}),\n",
       " (49, {192, 193}),\n",
       " (4, {194, 195}),\n",
       " (100, {196, 197}),\n",
       " (36, {198, 199}),\n",
       " (25, {200, 201}),\n",
       " (9, {202, 203}),\n",
       " (9, {204, 205}),\n",
       " (9, {206, 207}),\n",
       " (25, {208, 209}),\n",
       " (25, {210, 211}),\n",
       " (64, {212, 213}),\n",
       " (9, {214, 215}),\n",
       " (9, {216, 217}),\n",
       " (36, {218, 219}),\n",
       " (36, {220, 221}),\n",
       " (1, {222, 223}),\n",
       " (16, {224, 225}),\n",
       " (9, {226, 227}),\n",
       " (4, {228, 229}),\n",
       " (25, {230, 231}),\n",
       " (9, {232, 233}),\n",
       " (25, {234, 235}),\n",
       " (36, {236, 237}),\n",
       " (4, {238, 239}),\n",
       " (25, {240, 241}),\n",
       " (16, {242, 243}),\n",
       " (16, {244, 245}),\n",
       " (9, {246, 247}),\n",
       " (25, {248, 249}),\n",
       " (9, {250, 251}),\n",
       " (100, {252, 253}),\n",
       " (9, {254, 255}),\n",
       " (81, {256, 257}),\n",
       " (36, {258, 259}),\n",
       " (25, {260, 261}),\n",
       " (16, {262, 263}),\n",
       " (36, {264, 265}),\n",
       " (64, {266, 267}),\n",
       " (16, {268, 269}),\n",
       " (25, {270, 271}),\n",
       " (16, {272, 273}),\n",
       " (4, {274, 275}),\n",
       " (16, {276, 277}),\n",
       " (100, {278, 279}),\n",
       " (9, {280, 281}),\n",
       " (25, {282, 283}),\n",
       " (16, {284, 285}),\n",
       " (100, {286, 287}),\n",
       " (25, {288, 289}),\n",
       " (4, {290, 291}),\n",
       " (25, {292, 293}),\n",
       " (25, {294, 295}),\n",
       " (4, {296, 297}),\n",
       " (81, {298, 299}),\n",
       " (100, {300, 301}),\n",
       " (16, {302, 303}),\n",
       " (9, {304, 305}),\n",
       " (64, {306, 307}),\n",
       " (4, {308, 309}),\n",
       " (25, {310, 311}),\n",
       " (4, {312, 313}),\n",
       " (64, {314, 315}),\n",
       " (4, {316, 317}),\n",
       " (36, {318, 319}),\n",
       " (25, {320, 321}),\n",
       " (64, {322, 323}),\n",
       " (25, {324, 325}),\n",
       " (81, {326, 327}),\n",
       " (36, {328, 329}),\n",
       " (64, {330, 331}),\n",
       " (100, {332, 333}),\n",
       " (49, {334, 335}),\n",
       " (49, {336, 337}),\n",
       " (9, {338, 339}),\n",
       " (9, {340, 341}),\n",
       " (4, {342, 343}),\n",
       " (16, {344, 345}),\n",
       " (9, {346, 347}),\n",
       " (16, {348, 349}),\n",
       " (36, {350, 351}),\n",
       " (64, {352, 353}),\n",
       " (4, {354, 355}),\n",
       " (16, {356, 357}),\n",
       " (64, {358, 359}),\n",
       " (36, {360, 361}),\n",
       " (25, {362, 363}),\n",
       " (25, {364, 365}),\n",
       " (25, {366, 367}),\n",
       " (100, {368, 369}),\n",
       " (36, {370, 371}),\n",
       " (16, {372, 373}),\n",
       " (16, {374, 375}),\n",
       " (36, {376, 377}),\n",
       " (16, {378, 379}),\n",
       " (4, {380, 381}),\n",
       " (4, {382, 383}),\n",
       " (36, {384, 385}),\n",
       " (25, {386, 387}),\n",
       " (16, {388, 389}),\n",
       " (25, {390, 391}),\n",
       " (16, {392, 393}),\n",
       " (16, {394, 395}),\n",
       " (36, {396, 397}),\n",
       " (16, {398, 399}),\n",
       " (16, {400, 401}),\n",
       " (16, {402, 403}),\n",
       " (16, {404, 405}),\n",
       " (16, {406, 407}),\n",
       " (25, {408, 409}),\n",
       " (36, {410, 411}),\n",
       " (16, {412, 413}),\n",
       " (49, {414, 415}),\n",
       " (4, {416, 417}),\n",
       " (25, {418, 419}),\n",
       " (100, {420, 421}),\n",
       " (100, {422, 423}),\n",
       " (25, {424, 425}),\n",
       " (16, {426, 427}),\n",
       " (9, {428, 429}),\n",
       " (36, {430, 431}),\n",
       " (25, {432, 433}),\n",
       " (25, {434, 435}),\n",
       " (16, {436, 437}),\n",
       " (25, {438, 439}),\n",
       " (100, {440, 441}),\n",
       " (64, {442, 443}),\n",
       " (49, {444, 445}),\n",
       " (16, {446, 447}),\n",
       " (49, {448, 449}),\n",
       " (36, {450, 451}),\n",
       " (25, {452, 453}),\n",
       " (100, {454, 455}),\n",
       " (4, {456, 457}),\n",
       " (16, {458, 459}),\n",
       " (16, {460, 461}),\n",
       " (49, {462, 463}),\n",
       " (4, {464, 465}),\n",
       " (16, {466, 467}),\n",
       " (4, {468, 469}),\n",
       " (4, {470, 471}),\n",
       " (36, {472, 473}),\n",
       " (49, {474, 475}),\n",
       " (4, {476, 477}),\n",
       " (4, {478, 479}),\n",
       " (4, {480, 481}),\n",
       " (81, {482, 483}),\n",
       " (49, {484, 485}),\n",
       " (36, {486, 487}),\n",
       " (4, {488, 489}),\n",
       " (9, {490, 491}),\n",
       " (64, {492, 493}),\n",
       " (49, {494, 495}),\n",
       " (16, {496, 497}),\n",
       " (64, {498, 499})]"
      ]
     },
     "execution_count": 4,
     "metadata": {},
     "output_type": "execute_result"
    }
   ],
   "source": [
    "cost_matrix['2']"
   ]
  },
  {
   "cell_type": "code",
   "execution_count": 10,
   "id": "molecular-internship",
   "metadata": {},
   "outputs": [],
   "source": [
    "def SearchForAllSolutionsSampleSat():\n",
    "    \"\"\"Showcases calling the solver to search for all solutions.\"\"\"\n",
    "    # Creates the model.\n",
    "    model = cp_model.CpModel()\n",
    "    num_vals = 3\n",
    "    x = model.NewIntVar(0, two_people - 1, 'x')\n",
    "    y = model.NewIntVar(0, three_people - 1, 'y')\n",
    "    z = model.NewIntVar(0, four_people - 1, 'z')\n",
    "    model.Add((x*two_people + y*three_people + z*four_people) <= pizza_count)\n",
    "    solver = cp_model.CpSolver()\n",
    "    solution_printer = VarArraySolutionPrinter([x, y, z])\n",
    "    status = solver.SearchForAllSolutions(model, solution_printer)\n",
    "\n",
    "    print('Status = %s' % solver.StatusName(status))\n",
    "    print('Number of solutions found: %i' % solution_printer.solution_count())\n"
   ]
  },
  {
   "cell_type": "code",
   "execution_count": 11,
   "id": "departmental-tomato",
   "metadata": {},
   "outputs": [
    {
     "name": "stdout",
     "output_type": "stream",
     "text": [
      "x=0 y=0 z=0 \n",
      "x=0 y=1 z=0 \n",
      "x=0 y=1 z=1 \n",
      "x=0 y=0 z=1 \n",
      "x=0 y=2 z=1 \n",
      "x=0 y=2 z=0 \n",
      "x=0 y=2 z=2 \n",
      "x=0 y=1 z=2 \n",
      "x=0 y=0 z=2 \n",
      "x=0 y=3 z=2 \n",
      "x=0 y=3 z=1 \n",
      "x=0 y=3 z=0 \n",
      "x=0 y=3 z=3 \n",
      "x=0 y=2 z=3 \n",
      "x=0 y=1 z=3 \n",
      "x=0 y=0 z=3 \n",
      "x=0 y=4 z=3 \n",
      "x=0 y=4 z=2 \n",
      "x=0 y=4 z=1 \n",
      "x=0 y=4 z=0 \n",
      "x=0 y=4 z=4 \n",
      "x=0 y=3 z=4 \n",
      "x=0 y=2 z=4 \n",
      "x=0 y=1 z=4 \n",
      "x=0 y=0 z=4 \n",
      "x=0 y=5 z=3 \n",
      "x=0 y=5 z=2 \n",
      "x=0 y=5 z=1 \n",
      "x=0 y=5 z=0 \n",
      "x=0 y=3 z=5 \n",
      "x=0 y=2 z=5 \n",
      "x=0 y=1 z=5 \n",
      "x=0 y=0 z=5 \n",
      "x=0 y=6 z=2 \n",
      "x=0 y=6 z=1 \n",
      "x=0 y=6 z=0 \n",
      "x=0 y=2 z=6 \n",
      "x=0 y=1 z=6 \n",
      "x=0 y=0 z=6 \n",
      "x=0 y=7 z=1 \n",
      "x=0 y=7 z=0 \n",
      "x=0 y=1 z=7 \n",
      "x=0 y=0 z=7 \n",
      "x=0 y=8 z=0 \n",
      "x=0 y=0 z=8 \n",
      "x=1 y=0 z=7 \n",
      "x=1 y=0 z=6 \n",
      "x=1 y=0 z=5 \n",
      "x=1 y=0 z=4 \n",
      "x=1 y=0 z=3 \n",
      "x=1 y=0 z=2 \n",
      "x=1 y=0 z=1 \n",
      "x=1 y=0 z=0 \n",
      "x=2 y=0 z=0 \n",
      "x=2 y=0 z=1 \n",
      "x=2 y=0 z=2 \n",
      "x=2 y=0 z=3 \n",
      "x=2 y=0 z=4 \n",
      "x=2 y=0 z=5 \n",
      "x=2 y=0 z=6 \n",
      "x=3 y=0 z=5 \n",
      "x=3 y=0 z=4 \n",
      "x=3 y=0 z=3 \n",
      "x=3 y=0 z=2 \n",
      "x=3 y=0 z=1 \n",
      "x=3 y=0 z=0 \n",
      "x=4 y=0 z=0 \n",
      "x=4 y=0 z=1 \n",
      "x=4 y=0 z=2 \n",
      "x=4 y=0 z=3 \n",
      "x=4 y=0 z=4 \n",
      "x=5 y=0 z=2 \n",
      "x=5 y=0 z=1 \n",
      "x=5 y=0 z=0 \n",
      "x=6 y=0 z=0 \n",
      "x=6 y=0 z=1 \n",
      "x=7 y=0 z=0 \n",
      "x=6 y=1 z=0 \n",
      "x=5 y=1 z=0 \n",
      "x=5 y=2 z=0 \n",
      "x=4 y=2 z=0 \n",
      "x=4 y=1 z=0 \n",
      "x=4 y=3 z=0 \n",
      "x=4 y=4 z=0 \n",
      "x=3 y=4 z=0 \n",
      "x=3 y=3 z=0 \n",
      "x=3 y=2 z=0 \n",
      "x=3 y=1 z=0 \n",
      "x=3 y=5 z=0 \n",
      "x=2 y=5 z=0 \n",
      "x=2 y=4 z=0 \n",
      "x=2 y=3 z=0 \n",
      "x=2 y=2 z=0 \n",
      "x=2 y=1 z=0 \n",
      "x=2 y=6 z=0 \n",
      "x=1 y=6 z=0 \n",
      "x=1 y=5 z=0 \n",
      "x=1 y=4 z=0 \n",
      "x=1 y=3 z=0 \n",
      "x=1 y=2 z=0 \n",
      "x=1 y=1 z=0 \n",
      "x=1 y=7 z=0 \n",
      "x=1 y=6 z=1 \n",
      "x=1 y=5 z=1 \n",
      "x=1 y=5 z=2 \n",
      "x=1 y=4 z=2 \n",
      "x=1 y=4 z=1 \n",
      "x=1 y=4 z=3 \n",
      "x=1 y=3 z=3 \n",
      "x=1 y=2 z=3 \n",
      "x=1 y=2 z=2 \n",
      "x=1 y=2 z=1 \n",
      "x=1 y=3 z=1 \n",
      "x=1 y=3 z=2 \n",
      "x=1 y=3 z=4 \n",
      "x=1 y=2 z=4 \n",
      "x=1 y=2 z=5 \n",
      "x=2 y=2 z=4 \n",
      "x=2 y=2 z=3 \n",
      "x=2 y=3 z=3 \n",
      "x=2 y=3 z=2 \n",
      "x=2 y=3 z=1 \n",
      "x=2 y=2 z=1 \n",
      "x=2 y=2 z=2 \n",
      "x=2 y=4 z=2 \n",
      "x=2 y=4 z=1 \n",
      "x=2 y=5 z=1 \n",
      "x=3 y=4 z=1 \n",
      "x=3 y=3 z=1 \n",
      "x=3 y=3 z=2 \n",
      "x=3 y=2 z=2 \n",
      "x=3 y=2 z=1 \n",
      "x=3 y=2 z=3 \n",
      "x=4 y=2 z=2 \n",
      "x=4 y=2 z=1 \n",
      "x=4 y=3 z=1 \n",
      "x=4 y=1 z=1 \n",
      "x=3 y=1 z=1 \n",
      "x=2 y=1 z=1 \n",
      "x=1 y=1 z=1 \n",
      "x=5 y=1 z=1 \n",
      "x=4 y=1 z=2 \n",
      "x=3 y=1 z=2 \n",
      "x=2 y=1 z=2 \n",
      "x=1 y=1 z=2 \n",
      "x=1 y=1 z=3 \n",
      "x=2 y=1 z=3 \n",
      "x=3 y=1 z=3 \n",
      "x=4 y=1 z=3 \n",
      "x=3 y=1 z=4 \n",
      "x=2 y=1 z=4 \n",
      "x=1 y=1 z=4 \n",
      "x=1 y=1 z=5 \n",
      "x=2 y=1 z=5 \n",
      "x=1 y=1 z=6 \n",
      "Status = OPTIMAL\n",
      "Number of solutions found: 155\n"
     ]
    }
   ],
   "source": [
    "SearchForAllSolutionsSampleSat()"
   ]
  },
  {
   "cell_type": "code",
   "execution_count": 14,
   "id": "identical-slovak",
   "metadata": {},
   "outputs": [],
   "source": [
    "# from the above solution: to maximize\n",
    "def maximize():\n",
    "    model = cp_model.CpModel()\n",
    "    x = model.NewIntVar(0,two_people - 1, 'x')\n",
    "    y = model.NewIntVar(0, three_people - 1, 'y')\n",
    "    z = model.NewIntVar(0, four_people - 1, 'z')\n",
    "    model.Add((x*two_people + y*three_people + z*four_people) <= pizza_count)\n",
    "    model.Maximize((2*two_people + 3*three_people + 4*four_people))\n",
    "    solver = cp_model.CpSolver()\n",
    "    # Sets a time limit of 10 seconds.\n",
    "    status = solver.Solve(model)\n",
    "    \n",
    "    if status == cp_model.OPTIMAL:\n",
    "        print('Maximum of objective function: %i' % solver.ObjectiveValue())\n",
    "        print()\n",
    "        print('x value: ', solver.Value(x))\n",
    "        print('y value: ', solver.Value(y))\n",
    "        print('z value: ', solver.Value(z))"
   ]
  },
  {
   "cell_type": "code",
   "execution_count": 16,
   "id": "equipped-album",
   "metadata": {},
   "outputs": [
    {
     "name": "stdout",
     "output_type": "stream",
     "text": [
      "Maximum of objective function: 550\n",
      "\n",
      "x value:  0\n",
      "y value:  0\n",
      "z value:  0\n"
     ]
    }
   ],
   "source": [
    "maximize()"
   ]
  },
  {
   "cell_type": "code",
   "execution_count": 15,
   "id": "unavailable-killing",
   "metadata": {},
   "outputs": [
    {
     "data": {
      "text/plain": [
       "<ortools.sat.python.cp_model.Constraint at 0x7feb880f2730>"
      ]
     },
     "execution_count": 15,
     "metadata": {},
     "output_type": "execute_result"
    }
   ],
   "source": [
    "def SolveWithTimeLimitSampleSat():\n",
    "    \"\"\"Minimal CP-SAT example to showcase calling the solver.\"\"\"\n",
    "    # Creates the model.\n",
    "    model = cp_model.CpModel()\n",
    "    # Creates the variables.\n",
    "    num_vals = 3\n",
    "    x = model.NewIntVar(0, num_vals - 1, 'x')\n",
    "    y = model.NewIntVar(0, num_vals - 1, 'y')\n",
    "    z = model.NewIntVar(0, num_vals - 1, 'z')\n",
    "    # Adds an all-different constraint.\n",
    "    model.Add(x != y)\n",
    "\n",
    "    # Creates a solver and solves the model.\n",
    "    solver = cp_model.CpSolver()\n",
    "\n",
    "    \n",
    "\n",
    "    status = solver.Solve(model)\n",
    "\n",
    "    if status == cp_model.OPTIMAL:\n",
    "        print('x = %i' % solver.Value(x))\n",
    "        print('y = %i' % solver.Value(y))\n",
    "        print('z = %i' % solver.Value(z))\n",
    "\n"
   ]
  },
  {
   "cell_type": "code",
   "execution_count": null,
   "id": "creative-newspaper",
   "metadata": {},
   "outputs": [],
   "source": []
  },
  {
   "cell_type": "code",
   "execution_count": 9,
   "id": "standard-pilot",
   "metadata": {},
   "outputs": [],
   "source": [
    "solver = cp_model.CpSolver()\n",
    "status = solver.Solve(model)"
   ]
  },
  {
   "cell_type": "code",
   "execution_count": 9,
   "id": "tough-concert",
   "metadata": {},
   "outputs": [
    {
     "data": {
      "text/plain": [
       "504"
      ]
     },
     "execution_count": 9,
     "metadata": {},
     "output_type": "execute_result"
    }
   ],
   "source": [
    "two_people"
   ]
  },
  {
   "cell_type": "code",
   "execution_count": 17,
   "id": "civilian-status",
   "metadata": {},
   "outputs": [
    {
     "data": {
      "text/plain": [
       "True"
      ]
     },
     "execution_count": 17,
     "metadata": {},
     "output_type": "execute_result"
    }
   ],
   "source": [
    "len(pizza_dict) == pizza_count"
   ]
  },
  {
   "cell_type": "code",
   "execution_count": 21,
   "id": "closed-challenge",
   "metadata": {},
   "outputs": [],
   "source": [
    "tasks = {j for i in pizza_dict.values() for j in i}"
   ]
  },
  {
   "cell_type": "code",
   "execution_count": 27,
   "id": "dimensional-canal",
   "metadata": {},
   "outputs": [],
   "source": [
    "\n",
    "n_tasks = 3\n",
    "from ortools.linear_solver import pywraplp\n",
    "solver = pywraplp.Solver.CreateSolver('SCIP')"
   ]
  },
  {
   "cell_type": "code",
   "execution_count": 28,
   "id": "neither-fabric",
   "metadata": {},
   "outputs": [],
   "source": [
    "x = {}\n",
    "for i in range(pizza_count):\n",
    "    for j in range(n_tasks):\n",
    "        x[i, j] = solver.IntVar(0, 1, '')"
   ]
  },
  {
   "cell_type": "code",
   "execution_count": 30,
   "id": "hearing-spider",
   "metadata": {},
   "outputs": [],
   "source": [
    "for i in range(pizza_count):\n",
    "    solver.Add(solver.Sum([x[i, j] for j in range(n_tasks)]) <= 1)\n"
   ]
  },
  {
   "cell_type": "code",
   "execution_count": null,
   "id": "reserved-playlist",
   "metadata": {},
   "outputs": [],
   "source": []
  }
 ],
 "metadata": {
  "kernelspec": {
   "display_name": "Python 3",
   "language": "python",
   "name": "python3"
  },
  "language_info": {
   "codemirror_mode": {
    "name": "ipython",
    "version": 3
   },
   "file_extension": ".py",
   "mimetype": "text/x-python",
   "name": "python",
   "nbconvert_exporter": "python",
   "pygments_lexer": "ipython3",
   "version": "3.8.5"
  }
 },
 "nbformat": 4,
 "nbformat_minor": 5
}
