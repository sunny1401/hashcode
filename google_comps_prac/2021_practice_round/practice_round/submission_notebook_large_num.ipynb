{
 "cells": [
  {
   "cell_type": "code",
   "execution_count": 1,
   "id": "another-salon",
   "metadata": {},
   "outputs": [],
   "source": [
    "from abstract_class import file_details, get_score, write_output\n",
    "from large_num_sol import LNPizza"
   ]
  },
  {
   "cell_type": "code",
   "execution_count": 2,
   "id": "regulated-gasoline",
   "metadata": {},
   "outputs": [],
   "source": [
    "import time"
   ]
  },
  {
   "cell_type": "code",
   "execution_count": 4,
   "id": "excellent-gather",
   "metadata": {},
   "outputs": [
    {
     "name": "stdout",
     "output_type": "stream",
     "text": [
      "0.1699209213256836\n"
     ]
    }
   ],
   "source": [
    "start_time = time.time()\n",
    "\n",
    "pizza_dict, pizza_count, two_people, three_people, four_people = file_details('e')\n",
    "print(time.time() - start_time)"
   ]
  },
  {
   "cell_type": "code",
   "execution_count": 5,
   "id": "uniform-international",
   "metadata": {},
   "outputs": [],
   "source": [
    "lnpizza = LNPizza(pizza_count, pizza_dict, four_people, three_people, two_people)"
   ]
  },
  {
   "cell_type": "code",
   "execution_count": 6,
   "id": "searching-torture",
   "metadata": {},
   "outputs": [
    {
     "name": "stdout",
     "output_type": "stream",
     "text": [
      "2021-01-31 21:17.58 [info     ] Getting optimal people count\n",
      "2021-01-31 21:17.58 [info     ] calculating the max difference between different pizzas' ingredients\n",
      "2021-01-31 21:17.58 [info     ] calculating the best possible data combinations\n",
      "2021-01-31 21:18.08 [info     ] All done!\n"
     ]
    }
   ],
   "source": [
    "lnpizza.return_pizza()"
   ]
  },
  {
   "cell_type": "code",
   "execution_count": 7,
   "id": "lesser-killer",
   "metadata": {},
   "outputs": [
    {
     "data": {
      "text/plain": [
       "8317908"
      ]
     },
     "execution_count": 7,
     "metadata": {},
     "output_type": "execute_result"
    }
   ],
   "source": [
    "get_score(lnpizza.data)"
   ]
  },
  {
   "cell_type": "code",
   "execution_count": 8,
   "id": "specialized-rapid",
   "metadata": {},
   "outputs": [],
   "source": [
    "output_file = \"temp_e.op\""
   ]
  },
  {
   "cell_type": "code",
   "execution_count": 9,
   "id": "oriental-thought",
   "metadata": {},
   "outputs": [],
   "source": [
    "write_output(lnpizza, lnpizza.data, output_file)"
   ]
  },
  {
   "cell_type": "code",
   "execution_count": null,
   "id": "based-suicide",
   "metadata": {},
   "outputs": [],
   "source": []
  }
 ],
 "metadata": {
  "kernelspec": {
   "display_name": "Python 3",
   "language": "python",
   "name": "python3"
  },
  "language_info": {
   "codemirror_mode": {
    "name": "ipython",
    "version": 3
   },
   "file_extension": ".py",
   "mimetype": "text/x-python",
   "name": "python",
   "nbconvert_exporter": "python",
   "pygments_lexer": "ipython3",
   "version": "3.8.5"
  }
 },
 "nbformat": 4,
 "nbformat_minor": 5
}
