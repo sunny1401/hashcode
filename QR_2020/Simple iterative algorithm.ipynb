{
 "cells": [
  {
   "cell_type": "code",
   "execution_count": 1,
   "id": "rotary-copyright",
   "metadata": {},
   "outputs": [],
   "source": [
    "# https://storage.googleapis.com/coding-competitions.appspot.com/HC/2020/hashcode_2020_online_qualification_round.pdf\n",
    "# data at - https://storage.googleapis.com/coding-competitions.appspot.com/HC/2020/qualification_round_2020.in.zip\n",
    "# target score - 27203691 - https://codingcompetitions.withgoogle.com/hashcode/archive/2020"
   ]
  },
  {
   "cell_type": "code",
   "execution_count": 2,
   "id": "infectious-party",
   "metadata": {},
   "outputs": [],
   "source": [
    "from collections import OrderedDict"
   ]
  },
  {
   "cell_type": "code",
   "execution_count": 3,
   "id": "female-advertiser",
   "metadata": {},
   "outputs": [],
   "source": [
    "file_details = {\n",
    "    'a': 'a_example.txt',\n",
    "    'b': 'b_read_on.txt',\n",
    "    'c': 'c_incunabula.txt',\n",
    "    'd': 'd_tough_choices.txt',\n",
    "    'e': 'e_so_many_books.txt',\n",
    "    'f': 'f_libraries_of_the_world.txt'\n",
    "}"
   ]
  },
  {
   "cell_type": "code",
   "execution_count": 4,
   "id": "elegant-surname",
   "metadata": {},
   "outputs": [],
   "source": [
    "def read_input(file_path):\n",
    "    with open(file_path, 'r') as f:\n",
    "        lines = f.readlines()\n",
    "        \n",
    "    count = 0\n",
    "    \n",
    "    number_of_books, number_of_libs, number_of_days = lines[0].replace(\"\\n\", \"\").strip().split(\" \")\n",
    "    line_val = lines[1].replace(\"\\n\", \"\").strip().split(' ')\n",
    "    book_score = {k: int(line_val[k].strip()) for k in range(len(line_val))}\n",
    "    lib_entry = dict()\n",
    "    lib_books = dict()\n",
    "    \n",
    "    count = 0\n",
    "    for i in range(2, len(lines), 2):\n",
    "        \n",
    "        line_val = lines[i].replace(\"\\n\", \"\").strip().split(\" \")\n",
    "        if len(line_val) > 1:\n",
    "            lib_entry[count] = [int(line_val[0]), int(line_val[1]), int(line_val[2])]\n",
    "            line_val = lines[i+1].replace(\"\\n\", \"\").strip().split(\" \")\n",
    "            lib_books[count] = set(int(j) for j in line_val)\n",
    "            count += 1\n",
    "        \n",
    "    number_of_books = int(number_of_books)\n",
    "    number_of_libs = int(number_of_libs)\n",
    "    number_of_days = int(number_of_days)\n",
    "    \n",
    "    return number_of_books, number_of_libs, number_of_days, book_score, lib_entry, lib_books"
   ]
  },
  {
   "cell_type": "code",
   "execution_count": 5,
   "id": "virtual-terminology",
   "metadata": {},
   "outputs": [],
   "source": [
    "number_of_books, number_of_libs, number_of_days, book_score, lib_entry, lib_books = read_input(file_details['d'])"
   ]
  },
  {
   "cell_type": "code",
   "execution_count": 6,
   "id": "tough-stack",
   "metadata": {},
   "outputs": [
    {
     "data": {
      "text/plain": [
       "78600"
      ]
     },
     "execution_count": 6,
     "metadata": {},
     "output_type": "execute_result"
    }
   ],
   "source": [
    "number_of_books"
   ]
  },
  {
   "cell_type": "code",
   "execution_count": 7,
   "id": "textile-marine",
   "metadata": {},
   "outputs": [
    {
     "data": {
      "text/plain": [
       "30000"
      ]
     },
     "execution_count": 7,
     "metadata": {},
     "output_type": "execute_result"
    }
   ],
   "source": [
    "number_of_libs"
   ]
  },
  {
   "cell_type": "code",
   "execution_count": 8,
   "id": "extreme-likelihood",
   "metadata": {},
   "outputs": [
    {
     "data": {
      "text/plain": [
       "30001"
      ]
     },
     "execution_count": 8,
     "metadata": {},
     "output_type": "execute_result"
    }
   ],
   "source": [
    "number_of_days"
   ]
  },
  {
   "cell_type": "markdown",
   "id": "pressing-crawford",
   "metadata": {},
   "source": [
    "a - lib0 has 5 books, takes 2 days to sign up and two books can be scanned at one time"
   ]
  },
  {
   "cell_type": "code",
   "execution_count": 9,
   "id": "traditional-circulation",
   "metadata": {},
   "outputs": [],
   "source": [
    "book_score = OrderedDict(sorted(book_score.items(), key=lambda item: item[1], reverse=True))"
   ]
  },
  {
   "cell_type": "code",
   "execution_count": 10,
   "id": "experimental-postcard",
   "metadata": {},
   "outputs": [],
   "source": [
    "all_scanned_books = set()\n",
    "signed_up_libs = set()\n",
    "sign_process = set()"
   ]
  },
  {
   "cell_type": "code",
   "execution_count": 11,
   "id": "victorian-saint",
   "metadata": {},
   "outputs": [],
   "source": [
    "first_book_sign_up = next(iter(OrderedDict(sorted(lib_entry.items(), key=lambda item: item[1][1]))))"
   ]
  },
  {
   "cell_type": "code",
   "execution_count": 12,
   "id": "phantom-capture",
   "metadata": {},
   "outputs": [
    {
     "data": {
      "text/plain": [
       "0"
      ]
     },
     "execution_count": 12,
     "metadata": {},
     "output_type": "execute_result"
    }
   ],
   "source": [
    "first_book_sign_up"
   ]
  },
  {
   "cell_type": "code",
   "execution_count": 13,
   "id": "waiting-cartoon",
   "metadata": {},
   "outputs": [],
   "source": [
    "signed_up_libs.add(first_book_sign_up)\n",
    "number_of_days -= lib_entry[first_book_sign_up][1]"
   ]
  },
  {
   "cell_type": "code",
   "execution_count": 14,
   "id": "featured-launch",
   "metadata": {},
   "outputs": [],
   "source": [
    "score = 0"
   ]
  },
  {
   "cell_type": "code",
   "execution_count": 15,
   "id": "ecological-bedroom",
   "metadata": {},
   "outputs": [],
   "source": [
    "def get_books_scanned(libid):\n",
    "    global all_scanned_books, book_score, score\n",
    "    num_books = lib_entry[libid][2]\n",
    "    books = lib_books[libid]\n",
    "    count_books_scanned = 0\n",
    "    books_added = []\n",
    "    for book in book_score:\n",
    "        if book in books and num_books and book not in all_scanned_books:\n",
    "            print(f\"adding book  - {book} to scan\")\n",
    "            all_scanned_books.add(book)\n",
    "            count_books_scanned += 1\n",
    "            num_books -= 1\n",
    "            lib_books[libid].remove(book)\n",
    "            books_added.append(book)\n",
    "        if not num_books:\n",
    "            break\n",
    "    for book in books_added:\n",
    "        score += book_score[book]\n",
    "        del book_score[book]"
   ]
  },
  {
   "cell_type": "code",
   "execution_count": 16,
   "id": "dressed-edition",
   "metadata": {},
   "outputs": [],
   "source": [
    "lib_signup_order = OrderedDict(sorted(lib_entry.items(), key=lambda item: (item[1][0] - item[1][1] + item[1][2]), reverse=True))"
   ]
  },
  {
   "cell_type": "code",
   "execution_count": 17,
   "id": "apart-enclosure",
   "metadata": {},
   "outputs": [],
   "source": [
    "del lib_signup_order[first_book_sign_up]"
   ]
  },
  {
   "cell_type": "code",
   "execution_count": null,
   "id": "standing-grill",
   "metadata": {},
   "outputs": [],
   "source": [
    "sign_up_days = 0\n",
    "days_spent = 0\n",
    "while number_of_days:\n",
    "    if len(all_scanned_books) < number_of_books and len(book_score):\n",
    "        libs_to_remove = []\n",
    "        for lib in signed_up_libs:\n",
    "            get_books_scanned(lib)\n",
    "            if not len(lib_books[lib]):\n",
    "                libs_to_remove.append(lib)\n",
    "        for lib in libs_to_remove:\n",
    "            signed_up_libs.remove(lib)\n",
    "        days_spent += 1\n",
    "        if not len(sign_process) and len(lib_signup_order):\n",
    "            next_lib_signup = next(iter(lib_signup_order))\n",
    "            sign_up_days = lib_entry[next_lib_signup][1]\n",
    "            new_books = lib_books[next_lib_signup] - all_scanned_books\n",
    "            if len(new_books):\n",
    "                sign_process.add(next_lib_signup)\n",
    "                del lib_signup_order[next_lib_signup]\n",
    "                print(f\"libray added for sign up - {next_lib_signup}\")\n",
    "                \n",
    "            else:\n",
    "                del lib_signup_order[next_lib_signup]\n",
    "                print(f\"no new books - {next_lib_signup}\")\n",
    "        else:\n",
    "            key_to_remove = None\n",
    "            for libs in sign_process:\n",
    "                if sign_up_days == days_spent:\n",
    "                    days_spent = 0\n",
    "                    sign_up_days = 0\n",
    "                    signed_up_libs.add(libs)\n",
    "                    key_to_remove = libs\n",
    "            if key_to_remove:\n",
    "                sign_process.remove(libs)\n",
    "        number_of_days -= 1\n",
    "        print(\n",
    "            f\"Number of days left - {number_of_days}.\" \n",
    "            f\"\\nNumber of books left - {len(book_score)}\"\n",
    "            f\"\\nNumber of libs left - {len(lib_signup_order)}\"\n",
    "        )\n",
    "    elif len(all_scanned_books) == number_of_books:\n",
    "        break\n",
    "    elif not len(book_score):\n",
    "        print(\"all books scanned\")\n",
    "        break"
   ]
  },
  {
   "cell_type": "code",
   "execution_count": 22,
   "id": "located-criticism",
   "metadata": {},
   "outputs": [],
   "source": [
    "# score - a - 21\n",
    "# score - b - 99900\n",
    "# score - e - 86359\n",
    "# score - f - 4398928\n",
    "# score - d - 969735 (midway - taking more than 30 mins)\n",
    "# total - 5554943"
   ]
  },
  {
   "cell_type": "code",
   "execution_count": 19,
   "id": "graduate-extreme",
   "metadata": {},
   "outputs": [
    {
     "data": {
      "text/plain": [
       "969735"
      ]
     },
     "execution_count": 19,
     "metadata": {},
     "output_type": "execute_result"
    }
   ],
   "source": [
    "score"
   ]
  },
  {
   "cell_type": "code",
   "execution_count": null,
   "id": "cordless-reservation",
   "metadata": {},
   "outputs": [],
   "source": [
    "target score - 27,203,691"
   ]
  }
 ],
 "metadata": {
  "kernelspec": {
   "display_name": "Python 3",
   "language": "python",
   "name": "python3"
  },
  "language_info": {
   "codemirror_mode": {
    "name": "ipython",
    "version": 3
   },
   "file_extension": ".py",
   "mimetype": "text/x-python",
   "name": "python",
   "nbconvert_exporter": "python",
   "pygments_lexer": "ipython3",
   "version": "3.8.5"
  }
 },
 "nbformat": 4,
 "nbformat_minor": 5
}
