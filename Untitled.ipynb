{
 "cells": [
  {
   "cell_type": "markdown",
   "metadata": {},
   "source": [
    "Given the description of a city plan and planned paths for all cars in that city, optimize the schedule of tra\u0000c lights to minimize the total amount of time spent in tra\u0000c, and help as many cars as possible reach their destination before a given deadline.\n"
   ]
  },
  {
   "cell_type": "code",
   "execution_count": 1,
   "metadata": {},
   "outputs": [],
   "source": [
    "file_dict = {\n",
    "    \"a\": \"/Users/sankrantijoshi/Documents/projects/hashcode/a.txt\",\n",
    "    \"b\": \"/Users/sankrantijoshi/Documents/projects/hashcode/b.txt\",\n",
    "    \"c\": \"/Users/sankrantijoshi/Documents/projects/hashcode/c.txt\",\n",
    "    \"d\": \"/Users/sankrantijoshi/Documents/projects/hashcode/d.txt\",\n",
    "    \"e\": \"/Users/sankrantijoshi/Documents/projects/hashcode/e.txt\",\n",
    "    \"f\": \"/Users/sankrantijoshi/Documents/projects/hashcode/f.txt\"\n",
    "}"
   ]
  },
  {
   "cell_type": "code",
   "execution_count": 2,
   "metadata": {},
   "outputs": [],
   "source": [
    "with open(file_dict[\"f\"], 'r') as f:\n",
    "        lines = f.readlines()"
   ]
  },
  {
   "cell_type": "code",
   "execution_count": 3,
   "metadata": {},
   "outputs": [],
   "source": [
    "duration_of_simulation, intersections, num_streets, num_cars, score_point = (int(i) for i in lines[0].split(\" \"))"
   ]
  },
  {
   "cell_type": "code",
   "execution_count": 4,
   "metadata": {},
   "outputs": [
    {
     "data": {
      "text/plain": [
       "1992"
      ]
     },
     "execution_count": 4,
     "metadata": {},
     "output_type": "execute_result"
    }
   ],
   "source": [
    "duration_of_simulation"
   ]
  },
  {
   "cell_type": "code",
   "execution_count": 5,
   "metadata": {},
   "outputs": [],
   "source": [
    "streets = {}\n",
    "for line in range(1, num_streets+1):\n",
    "    (intersection_start, intersection_end, intersection_name, time_point) = lines[line].split(\" \")\n",
    "    intersection_start = int(intersection_start)\n",
    "    intersection_end = int(intersection_end)\n",
    "    time_point = int(time_point)\n",
    "    streets[intersection_name] = (intersection_start, intersection_end, time_point)\n",
    "    \n"
   ]
  },
  {
   "cell_type": "code",
   "execution_count": 6,
   "metadata": {},
   "outputs": [],
   "source": [
    "cars = {}\n",
    "count = 0\n",
    "for line in range(num_streets + 1, len(lines)):\n",
    "    num_streets_travel = int(lines[line].split(\" \")[0])\n",
    "    total_streets = lines[line].replace(\"\\n\", \"\").strip().split(\" \")[1:]\n",
    "    \n",
    "    cars[count] = [num_streets_travel, total_streets]\n",
    "    count += 1"
   ]
  },
  {
   "cell_type": "code",
   "execution_count": 7,
   "metadata": {},
   "outputs": [],
   "source": [
    "from collections import OrderedDict"
   ]
  },
  {
   "cell_type": "code",
   "execution_count": 8,
   "metadata": {},
   "outputs": [],
   "source": [
    "streets = OrderedDict(sorted(streets.items(), key=lambda item: item[1][2]))"
   ]
  },
  {
   "cell_type": "code",
   "execution_count": 9,
   "metadata": {},
   "outputs": [],
   "source": [
    "cars = OrderedDict(sorted(cars.items(), key=lambda item: item[1][0]))"
   ]
  },
  {
   "cell_type": "code",
   "execution_count": 10,
   "metadata": {},
   "outputs": [],
   "source": [
    "intersections = {}\n",
    "for i in streets:\n",
    "    intersection_start = streets[i][1]\n",
    "    if intersection_start in intersections:\n",
    "        intersections[intersection_start].append(i)\n",
    "    else:\n",
    "        intersections[intersection_start] = [i]"
   ]
  },
  {
   "cell_type": "code",
   "execution_count": 11,
   "metadata": {},
   "outputs": [],
   "source": [
    "result = {}"
   ]
  },
  {
   "cell_type": "code",
   "execution_count": 12,
   "metadata": {},
   "outputs": [],
   "source": [
    "current_moving_cars = {}"
   ]
  },
  {
   "cell_type": "code",
   "execution_count": 13,
   "metadata": {},
   "outputs": [],
   "source": [
    "car_reached_destination = set()"
   ]
  },
  {
   "cell_type": "code",
   "execution_count": 14,
   "metadata": {},
   "outputs": [],
   "source": [
    "traffic =  {\n",
    "    i: duration_of_simulation for j in intersections.values() for i in j\n",
    "}"
   ]
  },
  {
   "cell_type": "code",
   "execution_count": 15,
   "metadata": {},
   "outputs": [],
   "source": [
    "for car in cars:\n",
    "    intersection = cars[car][1]\n",
    "    for i in intersection:\n",
    "        time_taken = streets[i][2]\n",
    "        if (traffic[i]* time_taken) < duration_of_simulation:\n",
    "            traffic[i] = traffic[i]* time_taken\n",
    "        elif (traffic[i] + 1) < duration_of_simulation:\n",
    "            traffic[i] += 1\n",
    "        else:\n",
    "            traffic[i] = int(traffic[i]/2)"
   ]
  },
  {
   "cell_type": "code",
   "execution_count": 18,
   "metadata": {},
   "outputs": [],
   "source": [
    "for i in traffic:\n",
    "    if traffic[i] <= (duration_of_simulation/2):\n",
    "        traffic[i] = int(traffic[i]/2)"
   ]
  },
  {
   "cell_type": "code",
   "execution_count": 19,
   "metadata": {
    "scrolled": false
   },
   "outputs": [],
   "source": [
    "\n",
    "time = 0\n",
    "while(time < duration_of_simulation):\n",
    "    time += 1\n",
    "    for car in cars:\n",
    "        if car not in current_moving_cars:\n",
    "            current_moving_cars[car] = (cars[car][1][0], streets[cars[car][1][0]][2], time, 0)\n",
    "            break\n",
    "        \n",
    "    del_current_car = []\n",
    "    skip = False\n",
    "    for car in current_moving_cars:\n",
    "        intersection_name, street_cross_time, time_start, intersection_indx = current_moving_cars[car]\n",
    "        \n",
    "        traffic_reslt = {intersection_name: traffic[intersection_name]}\n",
    "        \n",
    "        intersection_start = streets[intersection_name][0]\n",
    "        if intersection_start not in result:\n",
    "            temp_result = []\n",
    "            for strt in intersections[intersection_start]:\n",
    "                value = traffic.get(strt, None)\n",
    "                if value == None:\n",
    "                    skip = True\n",
    "                    continue\n",
    "                else:\n",
    "                    temp_result.append(f\"{strt} {value}\")\n",
    "            if not skip:\n",
    "                result[intersection_start] = (len(intersections[intersection_start]), temp_result)\n",
    "        if (time - time_start) >= street_cross_time:\n",
    "            if intersection_indx == len(cars[car][1]) - 1:\n",
    "                car_reached_destination.add(car)\n",
    "                del_current_car.append(car)\n",
    "                \n",
    "            else:\n",
    "                intersection_indx += 1\n",
    "                intersection_name = cars[car][1][intersection_indx]\n",
    "                current_moving_cars[car] = (intersection_name, street_cross_time, time_start, intersection_indx)\n",
    "                \n",
    "    \n",
    "    for car in del_current_car:\n",
    "\n",
    "        current_moving_cars.pop(car)"
   ]
  },
  {
   "cell_type": "code",
   "execution_count": 20,
   "metadata": {},
   "outputs": [],
   "source": [
    "def output_file(file_path):\n",
    "    with open(file_path, \"w\") as f:\n",
    "        f.write(f\"{len(result)}\\n\")\n",
    "        for intersection in result:\n",
    "            f.write(f\"{intersection} \\n\")\n",
    "            f.write(f\"{result[intersection][0]} \\n\")\n",
    "            for i in result[intersection][1]:\n",
    "                f.write(f\"{i} \\n\")\n",
    "        "
   ]
  },
  {
   "cell_type": "code",
   "execution_count": 21,
   "metadata": {},
   "outputs": [
    {
     "data": {
      "text/plain": [
       "244"
      ]
     },
     "execution_count": 21,
     "metadata": {},
     "output_type": "execute_result"
    }
   ],
   "source": [
    "len(result)"
   ]
  },
  {
   "cell_type": "code",
   "execution_count": 22,
   "metadata": {},
   "outputs": [],
   "source": [
    "output_file(\"b_op.txt\")"
   ]
  },
  {
   "cell_type": "code",
   "execution_count": null,
   "metadata": {},
   "outputs": [],
   "source": []
  }
 ],
 "metadata": {
  "kernelspec": {
   "display_name": "Python 3",
   "language": "python",
   "name": "python3"
  },
  "language_info": {
   "codemirror_mode": {
    "name": "ipython",
    "version": 3
   },
   "file_extension": ".py",
   "mimetype": "text/x-python",
   "name": "python",
   "nbconvert_exporter": "python",
   "pygments_lexer": "ipython3",
   "version": "3.8.5"
  }
 },
 "nbformat": 4,
 "nbformat_minor": 4
}
